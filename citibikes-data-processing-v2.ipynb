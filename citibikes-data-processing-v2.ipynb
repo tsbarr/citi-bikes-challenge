{
 "cells": [
  {
   "cell_type": "markdown",
   "metadata": {},
   "source": [
    "## Citibikes data processing v2\n",
    "\n",
    "**Notes:**\n",
    "\n",
    "2013 data until now\n",
    "\n",
    "Dataset 1 -- is bikeshare more popular from 2013 until now\n",
    "- year\n",
    "- month\n",
    "- rideable type\n",
    "- member_casual\n",
    "- binned trip duration in mins (calculate in python)\n",
    "- binned trip distance in meters (calculate in python)\n",
    "- count(ride_id)\n",
    "  \n"
   ]
  },
  {
   "cell_type": "code",
   "execution_count": null,
   "metadata": {},
   "outputs": [],
   "source": [
    "import pandas as pd\n",
    "from pathlib import Path"
   ]
  },
  {
   "cell_type": "code",
   "execution_count": null,
   "metadata": {},
   "outputs": [],
   "source": []
  }
 ],
 "metadata": {
  "language_info": {
   "name": "python"
  }
 },
 "nbformat": 4,
 "nbformat_minor": 2
}
