{
 "cells": [
  {
   "cell_type": "markdown",
   "metadata": {},
   "source": [
    "## Citibikes data processing v2\n",
    "\n",
    "**Notes:**\n",
    "\n",
    "2013 data until now\n",
    "\n",
    "Dataset 1 -- is bikeshare more popular from 2013 until now\n",
    "- year\n",
    "- month\n",
    "- rideable type\n",
    "- member_casual\n",
    "- binned trip duration in mins (calculate in python)\n",
    "- binned trip distance in meters (calculate in python)\n",
    "- count(ride_id)\n",
    "  \n"
   ]
  },
  {
   "cell_type": "code",
   "execution_count": 2,
   "metadata": {},
   "outputs": [],
   "source": [
    "import pandas as pd\n",
    "from pathlib import Path\n",
    "import datetime"
   ]
  },
  {
   "cell_type": "code",
   "execution_count": 3,
   "metadata": {},
   "outputs": [],
   "source": [
    "def get_tripduration(started_at, ended_at):\n",
    "        # started_at = pd.to_datetime(started_at, yearfirst=True)\n",
    "        # ended_at = pd.to_datetime(ended_at, yearfirst=True)\n",
    "        tripduration = (ended_at - started_at) / pd.Timedelta(seconds=1)\n",
    "        return tripduration.astype('int32')\n"
   ]
  },
  {
   "cell_type": "code",
   "execution_count": 29,
   "metadata": {},
   "outputs": [],
   "source": [
    "def bin_tripduration(trip_duration_col):\n",
    "    trip_duration_bins = (pd\n",
    "        .cut(\n",
    "            trip_duration_col,\n",
    "            bins=(\n",
    "                # first hour divided by 10 min\n",
    "                list(range(0, 60, 10)) +\n",
    "                # first day divided by hour\n",
    "                list(range(60, 1440, 60)) +\n",
    "                # days division up to days 7 days\n",
    "                list(range(1440, (1440*7)+1, 1440)) +\n",
    "                # over 7 days, up to a year, are the last bin\n",
    "                [(1440*366)+1]\n",
    "            ),\n",
    "            # labels are the bottom limit of each bin\n",
    "            labels=(\n",
    "                # first hour divided by 10 min\n",
    "                list(range(0, 60, 10)) +\n",
    "                # first day divided by hour\n",
    "                list(range(60, 1440, 60)) +\n",
    "                # days division up to days 7 days\n",
    "                list(range(1440, (1440*7)+1, 1440))\n",
    "            ),\n",
    "            right=False,\n",
    "            include_lowest=True\n",
    "        )\n",
    "        # fill category for values over a year\n",
    "        .fillna(1440*366)\n",
    "    )\n",
    "    return trip_duration_bins"
   ]
  },
  {
   "cell_type": "code",
   "execution_count": 54,
   "metadata": {},
   "outputs": [],
   "source": [
    "def agg_month(year, month):\n",
    "    # define path to csv\n",
    "    file_path = Path('Resources', f'{year}{month:02}-citibike-tripdata.csv')\n",
    "    new_structure = (year >= 2021 and month >= 2)\n",
    "    if new_structure:\n",
    "        # what cols to use\n",
    "        # note: start and end station names are 4 and 6\n",
    "        use_columns = [1, 2, 3, 12]\n",
    "        start_col = 'started_at'\n",
    "        end_col = 'ended_at'\n",
    "    else:\n",
    "        use_columns = [0, 1, 2, 12]\n",
    "        start_col = 'starttime'\n",
    "        end_col = 'stoptime'\n",
    "\n",
    "    df = pd.read_csv(\n",
    "        file_path, \n",
    "        usecols=use_columns\n",
    "    ).dropna()\n",
    "    df[start_col] = pd.to_datetime(df[start_col], yearfirst=True)\n",
    "    df[end_col] = pd.to_datetime(df[end_col], yearfirst=True)\n",
    "    \n",
    "    if new_structure:\n",
    "        df['trip_duration'] = get_tripduration(df[start_col], df[end_col])\n",
    "        df.rename(columns={'member_casual': 'user_type'}, inplace=True)\n",
    "    else:\n",
    "        df['rideable_type'] = 'classic_bike'\n",
    "        df.rename(\n",
    "            columns={\n",
    "                'usertype': 'user_type',\n",
    "                'tripduration': 'trip_duration'\n",
    "            },\n",
    "            inplace=True\n",
    "        )\n",
    "    # only keep trip_durations that are over 0 (neg values are errors)\n",
    "    df = df.loc[df['trip_duration'] > 0]\n",
    "    # convert seconds to minutes\n",
    "    df['trip_duration'] = df['trip_duration'] / 60\n",
    "    # get date from start column\n",
    "    df['date'] = df[start_col].dt.date\n",
    "    # drop start and end columns\n",
    "    df = df.drop(columns=[start_col, end_col])\n",
    "    # convert trip_duration to binned categories\n",
    "    df['trip_duration'] = bin_tripduration(df['trip_duration'])\n",
    "    # get counts of each combination of col values\n",
    "    df = (df\n",
    "        .value_counts()\n",
    "        .reset_index(drop=False, name='trip_count')\n",
    "    )\n",
    "    return df"
   ]
  },
  {
   "cell_type": "code",
   "execution_count": 80,
   "metadata": {},
   "outputs": [],
   "source": [
    "def agg_year(year):\n",
    "    # 2013 starts in june (6)\n",
    "    if year == 2013:\n",
    "        first_month = 6\n",
    "    else:\n",
    "        first_month = 1\n",
    "    # create empty df to concat months\n",
    "    df = pd.DataFrame()\n",
    "    # loop through all months\n",
    "    for month in range(first_month, 3):\n",
    "        # run agg_month for each month\n",
    "        month_df = agg_month(year, month)\n",
    "        # print(month_df.head())\n",
    "        # concatenate month_df with total df\n",
    "        df = pd.concat([df, month_df], names=month_df.index.names)\n",
    "        print(df.head())\n",
    "        # print(month_df.index.names)\n",
    "    # return df\n"
   ]
  },
  {
   "cell_type": "code",
   "execution_count": 81,
   "metadata": {},
   "outputs": [
    {
     "name": "stdout",
     "output_type": "stream",
     "text": [
      "                                                 0\n",
      "(0, Subscriber, classic_bike, 2021-01-14)  22306.0\n",
      "(0, Subscriber, classic_bike, 2021-01-22)  20746.0\n",
      "(0, Subscriber, classic_bike, 2021-01-13)  20460.0\n",
      "(0, Subscriber, classic_bike, 2021-01-12)  20239.0\n",
      "(0, Subscriber, classic_bike, 2021-01-19)  19975.0\n",
      "                                                 0\n",
      "(0, Subscriber, classic_bike, 2021-01-14)  22306.0\n",
      "(0, Subscriber, classic_bike, 2021-01-22)  20746.0\n",
      "(0, Subscriber, classic_bike, 2021-01-13)  20460.0\n",
      "(0, Subscriber, classic_bike, 2021-01-12)  20239.0\n",
      "(0, Subscriber, classic_bike, 2021-01-19)  19975.0\n"
     ]
    }
   ],
   "source": [
    "# loop through all years\n",
    "for year in range(2021, 2022):\n",
    "    # run agg_year for each year's data\n",
    "    year_df = agg_year(year)\n"
   ]
  },
  {
   "cell_type": "code",
   "execution_count": 55,
   "metadata": {},
   "outputs": [],
   "source": [
    "test_df = agg_month(2021, 11)"
   ]
  },
  {
   "cell_type": "code",
   "execution_count": null,
   "metadata": {},
   "outputs": [],
   "source": [
    "# 202101: last month with 'tripduration' data structure"
   ]
  },
  {
   "cell_type": "code",
   "execution_count": 5,
   "metadata": {},
   "outputs": [
    {
     "name": "stdout",
     "output_type": "stream",
     "text": [
      "<class 'pandas.core.frame.DataFrame'>\n",
      "RangeIndex: 843416 entries, 0 to 843415\n",
      "Data columns (total 15 columns):\n",
      " #   Column                   Non-Null Count   Dtype  \n",
      "---  ------                   --------------   -----  \n",
      " 0   tripduration             843416 non-null  int64  \n",
      " 1   starttime                843416 non-null  object \n",
      " 2   stoptime                 843416 non-null  object \n",
      " 3   start station id         843416 non-null  int64  \n",
      " 4   start station name       843416 non-null  object \n",
      " 5   start station latitude   843416 non-null  float64\n",
      " 6   start station longitude  843416 non-null  float64\n",
      " 7   end station id           843416 non-null  int64  \n",
      " 8   end station name         843416 non-null  object \n",
      " 9   end station latitude     843416 non-null  float64\n",
      " 10  end station longitude    843416 non-null  float64\n",
      " 11  bikeid                   843416 non-null  int64  \n",
      " 12  usertype                 843416 non-null  object \n",
      " 13  birth year               843416 non-null  object \n",
      " 14  gender                   843416 non-null  int64  \n",
      "dtypes: float64(4), int64(5), object(6)\n",
      "memory usage: 96.5+ MB\n"
     ]
    }
   ],
   "source": [
    "working_df.info()"
   ]
  }
 ],
 "metadata": {
  "kernelspec": {
   "display_name": "dev",
   "language": "python",
   "name": "python3"
  },
  "language_info": {
   "codemirror_mode": {
    "name": "ipython",
    "version": 3
   },
   "file_extension": ".py",
   "mimetype": "text/x-python",
   "name": "python",
   "nbconvert_exporter": "python",
   "pygments_lexer": "ipython3",
   "version": "3.10.12"
  }
 },
 "nbformat": 4,
 "nbformat_minor": 2
}
